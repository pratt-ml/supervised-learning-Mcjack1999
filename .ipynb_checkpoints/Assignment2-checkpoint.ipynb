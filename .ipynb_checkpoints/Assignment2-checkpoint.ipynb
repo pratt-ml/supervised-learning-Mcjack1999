{
 "cells": [
  {
   "cell_type": "code",
   "execution_count": 1,
   "id": "c64f98a0-1b6a-42a6-afa0-c1a7ef28b861",
   "metadata": {},
   "outputs": [
    {
     "name": "stdout",
     "output_type": "stream",
     "text": [
      "Requirement already satisfied: scikit-learn in /opt/anaconda3/lib/python3.12/site-packages (1.4.2)\n",
      "Requirement already satisfied: numpy>=1.19.5 in /opt/anaconda3/lib/python3.12/site-packages (from scikit-learn) (1.26.4)\n",
      "Requirement already satisfied: scipy>=1.6.0 in /opt/anaconda3/lib/python3.12/site-packages (from scikit-learn) (1.13.1)\n",
      "Requirement already satisfied: joblib>=1.2.0 in /opt/anaconda3/lib/python3.12/site-packages (from scikit-learn) (1.4.2)\n",
      "Requirement already satisfied: threadpoolctl>=2.0.0 in /opt/anaconda3/lib/python3.12/site-packages (from scikit-learn) (2.2.0)\n"
     ]
    }
   ],
   "source": [
    "!pip install scikit-learn"
   ]
  },
  {
   "cell_type": "code",
   "execution_count": 2,
   "id": "9c6bc0b7-05f3-426b-a20c-99941821d75e",
   "metadata": {},
   "outputs": [
    {
     "name": "stdout",
     "output_type": "stream",
     "text": [
      "Requirement already satisfied: ucimlrepo in /opt/anaconda3/lib/python3.12/site-packages (0.0.7)\n",
      "Requirement already satisfied: pandas>=1.0.0 in /opt/anaconda3/lib/python3.12/site-packages (from ucimlrepo) (2.2.2)\n",
      "Requirement already satisfied: certifi>=2020.12.5 in /opt/anaconda3/lib/python3.12/site-packages (from ucimlrepo) (2024.7.4)\n",
      "Requirement already satisfied: numpy>=1.26.0 in /opt/anaconda3/lib/python3.12/site-packages (from pandas>=1.0.0->ucimlrepo) (1.26.4)\n",
      "Requirement already satisfied: python-dateutil>=2.8.2 in /opt/anaconda3/lib/python3.12/site-packages (from pandas>=1.0.0->ucimlrepo) (2.9.0.post0)\n",
      "Requirement already satisfied: pytz>=2020.1 in /opt/anaconda3/lib/python3.12/site-packages (from pandas>=1.0.0->ucimlrepo) (2024.1)\n",
      "Requirement already satisfied: tzdata>=2022.7 in /opt/anaconda3/lib/python3.12/site-packages (from pandas>=1.0.0->ucimlrepo) (2023.3)\n",
      "Requirement already satisfied: six>=1.5 in /opt/anaconda3/lib/python3.12/site-packages (from python-dateutil>=2.8.2->pandas>=1.0.0->ucimlrepo) (1.16.0)\n",
      "Note: you may need to restart the kernel to use updated packages.\n"
     ]
    }
   ],
   "source": [
    "pip install ucimlrepo"
   ]
  },
  {
   "cell_type": "code",
   "execution_count": 3,
   "id": "c005b5f0-b5fe-4100-b64c-e0abf7bc54fd",
   "metadata": {},
   "outputs": [],
   "source": [
    "from ucimlrepo import fetch_ucirepo \n",
    "  \n",
    "# fetch dataset \n",
    "wine_quality = fetch_ucirepo(id=186) \n",
    "  \n",
    "# data (as pandas dataframes) \n",
    "X_df = wine_quality.data.features \n",
    "y_df = wine_quality.data.targets \n",
    "  \n",
    "# metadata \n",
    "#print(wine_quality.metadata) \n",
    "  \n",
    "# variable information \n",
    "#print(wine_quality.variables) \n"
   ]
  },
  {
   "cell_type": "code",
   "execution_count": 4,
   "id": "318614ae-a20e-4092-be86-cca854df60e5",
   "metadata": {},
   "outputs": [],
   "source": [
    "import matplotlib.pyplot as plt\n",
    "import numpy as np\n",
    "import pandas as pd"
   ]
  },
  {
   "cell_type": "markdown",
   "id": "8985d6a0-b432-4c19-ab25-b25b9dc43b0f",
   "metadata": {},
   "source": [
    "Starting the exploratory data analysis. To perform standard pandas operations, I need to convert X and y (which are the features and targets of the dataset, respectively) into pandas DataFrames. I plan to check columns to understand datatypes, value ranges, find possible missing values, the correlation between features, and create relevant data visualizations."
   ]
  },
  {
   "cell_type": "code",
   "execution_count": 9,
   "id": "61e038d4-5e65-4b89-8e86-6db4656dfc1d",
   "metadata": {},
   "outputs": [],
   "source": [
    "winedf = pd.concat([X_df, y_df], axis=1)"
   ]
  },
  {
   "cell_type": "code",
   "execution_count": 15,
   "id": "c4074c41-2efb-437f-a306-16a2e6fecb3b",
   "metadata": {},
   "outputs": [
    {
     "data": {
      "text/html": [
       "<div>\n",
       "<style scoped>\n",
       "    .dataframe tbody tr th:only-of-type {\n",
       "        vertical-align: middle;\n",
       "    }\n",
       "\n",
       "    .dataframe tbody tr th {\n",
       "        vertical-align: top;\n",
       "    }\n",
       "\n",
       "    .dataframe thead th {\n",
       "        text-align: right;\n",
       "    }\n",
       "</style>\n",
       "<table border=\"1\" class=\"dataframe\">\n",
       "  <thead>\n",
       "    <tr style=\"text-align: right;\">\n",
       "      <th></th>\n",
       "      <th>fixed_acidity</th>\n",
       "      <th>volatile_acidity</th>\n",
       "      <th>citric_acid</th>\n",
       "      <th>residual_sugar</th>\n",
       "      <th>chlorides</th>\n",
       "      <th>free_sulfur_dioxide</th>\n",
       "      <th>total_sulfur_dioxide</th>\n",
       "      <th>density</th>\n",
       "      <th>pH</th>\n",
       "      <th>sulphates</th>\n",
       "      <th>alcohol</th>\n",
       "      <th>quality</th>\n",
       "    </tr>\n",
       "  </thead>\n",
       "  <tbody>\n",
       "    <tr>\n",
       "      <th>0</th>\n",
       "      <td>7.4</td>\n",
       "      <td>0.70</td>\n",
       "      <td>0.00</td>\n",
       "      <td>1.9</td>\n",
       "      <td>0.076</td>\n",
       "      <td>11.0</td>\n",
       "      <td>34.0</td>\n",
       "      <td>0.9978</td>\n",
       "      <td>3.51</td>\n",
       "      <td>0.56</td>\n",
       "      <td>9.4</td>\n",
       "      <td>5</td>\n",
       "    </tr>\n",
       "    <tr>\n",
       "      <th>1</th>\n",
       "      <td>7.8</td>\n",
       "      <td>0.88</td>\n",
       "      <td>0.00</td>\n",
       "      <td>2.6</td>\n",
       "      <td>0.098</td>\n",
       "      <td>25.0</td>\n",
       "      <td>67.0</td>\n",
       "      <td>0.9968</td>\n",
       "      <td>3.20</td>\n",
       "      <td>0.68</td>\n",
       "      <td>9.8</td>\n",
       "      <td>5</td>\n",
       "    </tr>\n",
       "    <tr>\n",
       "      <th>2</th>\n",
       "      <td>7.8</td>\n",
       "      <td>0.76</td>\n",
       "      <td>0.04</td>\n",
       "      <td>2.3</td>\n",
       "      <td>0.092</td>\n",
       "      <td>15.0</td>\n",
       "      <td>54.0</td>\n",
       "      <td>0.9970</td>\n",
       "      <td>3.26</td>\n",
       "      <td>0.65</td>\n",
       "      <td>9.8</td>\n",
       "      <td>5</td>\n",
       "    </tr>\n",
       "    <tr>\n",
       "      <th>3</th>\n",
       "      <td>11.2</td>\n",
       "      <td>0.28</td>\n",
       "      <td>0.56</td>\n",
       "      <td>1.9</td>\n",
       "      <td>0.075</td>\n",
       "      <td>17.0</td>\n",
       "      <td>60.0</td>\n",
       "      <td>0.9980</td>\n",
       "      <td>3.16</td>\n",
       "      <td>0.58</td>\n",
       "      <td>9.8</td>\n",
       "      <td>6</td>\n",
       "    </tr>\n",
       "    <tr>\n",
       "      <th>4</th>\n",
       "      <td>7.4</td>\n",
       "      <td>0.70</td>\n",
       "      <td>0.00</td>\n",
       "      <td>1.9</td>\n",
       "      <td>0.076</td>\n",
       "      <td>11.0</td>\n",
       "      <td>34.0</td>\n",
       "      <td>0.9978</td>\n",
       "      <td>3.51</td>\n",
       "      <td>0.56</td>\n",
       "      <td>9.4</td>\n",
       "      <td>5</td>\n",
       "    </tr>\n",
       "  </tbody>\n",
       "</table>\n",
       "</div>"
      ],
      "text/plain": [
       "   fixed_acidity  volatile_acidity  citric_acid  residual_sugar  chlorides  \\\n",
       "0            7.4              0.70         0.00             1.9      0.076   \n",
       "1            7.8              0.88         0.00             2.6      0.098   \n",
       "2            7.8              0.76         0.04             2.3      0.092   \n",
       "3           11.2              0.28         0.56             1.9      0.075   \n",
       "4            7.4              0.70         0.00             1.9      0.076   \n",
       "\n",
       "   free_sulfur_dioxide  total_sulfur_dioxide  density    pH  sulphates  \\\n",
       "0                 11.0                  34.0   0.9978  3.51       0.56   \n",
       "1                 25.0                  67.0   0.9968  3.20       0.68   \n",
       "2                 15.0                  54.0   0.9970  3.26       0.65   \n",
       "3                 17.0                  60.0   0.9980  3.16       0.58   \n",
       "4                 11.0                  34.0   0.9978  3.51       0.56   \n",
       "\n",
       "   alcohol  quality  \n",
       "0      9.4        5  \n",
       "1      9.8        5  \n",
       "2      9.8        5  \n",
       "3      9.8        6  \n",
       "4      9.4        5  "
      ]
     },
     "execution_count": 15,
     "metadata": {},
     "output_type": "execute_result"
    }
   ],
   "source": [
    "winedf.head()\n",
    "\n",
    "#winedf.columns\n",
    "\n",
    "#winedf.isnull().sum()\n",
    "\n",
    "#winedf.describe()"
   ]
  },
  {
   "cell_type": "markdown",
   "id": "8b391912-e9c1-41da-8aa3-0b0ee66d6e85",
   "metadata": {},
   "source": [
    "#Great no null values! So I dont have to worry about dropping any rows and my chances of missing data or data that was inputted wrong is lower."
   ]
  },
  {
   "cell_type": "markdown",
   "id": "eb72d1e5-ce9c-4d95-9d8b-52bf5decf572",
   "metadata": {},
   "source": [
    "#These data types seem to be correct considering most of htem are percentages in decimal form float64 for would be the best Dtype for them. I also see the quality is int64 I beleive this column is the quality ratings given to each wine which would be whole numbers."
   ]
  },
  {
   "cell_type": "code",
   "execution_count": 17,
   "id": "b78fab48-ea43-4000-aeca-e51848e87125",
   "metadata": {},
   "outputs": [
    {
     "data": {
      "text/plain": [
       "{'ids': None,\n",
       " 'features':       fixed_acidity  volatile_acidity  citric_acid  residual_sugar  chlorides  \\\n",
       " 0               7.4              0.70         0.00             1.9      0.076   \n",
       " 1               7.8              0.88         0.00             2.6      0.098   \n",
       " 2               7.8              0.76         0.04             2.3      0.092   \n",
       " 3              11.2              0.28         0.56             1.9      0.075   \n",
       " 4               7.4              0.70         0.00             1.9      0.076   \n",
       " ...             ...               ...          ...             ...        ...   \n",
       " 6492            6.2              0.21         0.29             1.6      0.039   \n",
       " 6493            6.6              0.32         0.36             8.0      0.047   \n",
       " 6494            6.5              0.24         0.19             1.2      0.041   \n",
       " 6495            5.5              0.29         0.30             1.1      0.022   \n",
       " 6496            6.0              0.21         0.38             0.8      0.020   \n",
       " \n",
       "       free_sulfur_dioxide  total_sulfur_dioxide  density    pH  sulphates  \\\n",
       " 0                    11.0                  34.0  0.99780  3.51       0.56   \n",
       " 1                    25.0                  67.0  0.99680  3.20       0.68   \n",
       " 2                    15.0                  54.0  0.99700  3.26       0.65   \n",
       " 3                    17.0                  60.0  0.99800  3.16       0.58   \n",
       " 4                    11.0                  34.0  0.99780  3.51       0.56   \n",
       " ...                   ...                   ...      ...   ...        ...   \n",
       " 6492                 24.0                  92.0  0.99114  3.27       0.50   \n",
       " 6493                 57.0                 168.0  0.99490  3.15       0.46   \n",
       " 6494                 30.0                 111.0  0.99254  2.99       0.46   \n",
       " 6495                 20.0                 110.0  0.98869  3.34       0.38   \n",
       " 6496                 22.0                  98.0  0.98941  3.26       0.32   \n",
       " \n",
       "       alcohol  \n",
       " 0         9.4  \n",
       " 1         9.8  \n",
       " 2         9.8  \n",
       " 3         9.8  \n",
       " 4         9.4  \n",
       " ...       ...  \n",
       " 6492     11.2  \n",
       " 6493      9.6  \n",
       " 6494      9.4  \n",
       " 6495     12.8  \n",
       " 6496     11.8  \n",
       " \n",
       " [6497 rows x 11 columns],\n",
       " 'targets':       quality\n",
       " 0           5\n",
       " 1           5\n",
       " 2           5\n",
       " 3           6\n",
       " 4           5\n",
       " ...       ...\n",
       " 6492        6\n",
       " 6493        5\n",
       " 6494        6\n",
       " 6495        7\n",
       " 6496        6\n",
       " \n",
       " [6497 rows x 1 columns],\n",
       " 'original':       fixed_acidity  volatile_acidity  citric_acid  residual_sugar  chlorides  \\\n",
       " 0               7.4              0.70         0.00             1.9      0.076   \n",
       " 1               7.8              0.88         0.00             2.6      0.098   \n",
       " 2               7.8              0.76         0.04             2.3      0.092   \n",
       " 3              11.2              0.28         0.56             1.9      0.075   \n",
       " 4               7.4              0.70         0.00             1.9      0.076   \n",
       " ...             ...               ...          ...             ...        ...   \n",
       " 6492            6.2              0.21         0.29             1.6      0.039   \n",
       " 6493            6.6              0.32         0.36             8.0      0.047   \n",
       " 6494            6.5              0.24         0.19             1.2      0.041   \n",
       " 6495            5.5              0.29         0.30             1.1      0.022   \n",
       " 6496            6.0              0.21         0.38             0.8      0.020   \n",
       " \n",
       "       free_sulfur_dioxide  total_sulfur_dioxide  density    pH  sulphates  \\\n",
       " 0                    11.0                  34.0  0.99780  3.51       0.56   \n",
       " 1                    25.0                  67.0  0.99680  3.20       0.68   \n",
       " 2                    15.0                  54.0  0.99700  3.26       0.65   \n",
       " 3                    17.0                  60.0  0.99800  3.16       0.58   \n",
       " 4                    11.0                  34.0  0.99780  3.51       0.56   \n",
       " ...                   ...                   ...      ...   ...        ...   \n",
       " 6492                 24.0                  92.0  0.99114  3.27       0.50   \n",
       " 6493                 57.0                 168.0  0.99490  3.15       0.46   \n",
       " 6494                 30.0                 111.0  0.99254  2.99       0.46   \n",
       " 6495                 20.0                 110.0  0.98869  3.34       0.38   \n",
       " 6496                 22.0                  98.0  0.98941  3.26       0.32   \n",
       " \n",
       "       alcohol  quality  color  \n",
       " 0         9.4        5    red  \n",
       " 1         9.8        5    red  \n",
       " 2         9.8        5    red  \n",
       " 3         9.8        6    red  \n",
       " 4         9.4        5    red  \n",
       " ...       ...      ...    ...  \n",
       " 6492     11.2        6  white  \n",
       " 6493      9.6        5  white  \n",
       " 6494      9.4        6  white  \n",
       " 6495     12.8        7  white  \n",
       " 6496     11.8        6  white  \n",
       " \n",
       " [6497 rows x 13 columns],\n",
       " 'headers': Index(['fixed_acidity', 'volatile_acidity', 'citric_acid', 'residual_sugar',\n",
       "        'chlorides', 'free_sulfur_dioxide', 'total_sulfur_dioxide', 'density',\n",
       "        'pH', 'sulphates', 'alcohol', 'quality', 'color'],\n",
       "       dtype='object')}"
      ]
     },
     "execution_count": 17,
     "metadata": {},
     "output_type": "execute_result"
    }
   ],
   "source": [
    "wine_quality.data"
   ]
  },
  {
   "cell_type": "markdown",
   "id": "be193195-b45a-4f4b-a19a-f1f0cbacabce",
   "metadata": {},
   "source": [
    "I was having trouble finding the color column with the code given by the UCI to call the data into python. I believe they made a new datasheet to remove the color column. However, for our assignment I have to hot code a catergorical variable and color is the only catergorical column. After running \"wine_quality.data\" I was able to find the column under \"original\" so my next step it to pull out the orginal datset and work on that moving forward. "
   ]
  },
  {
   "cell_type": "code",
   "execution_count": 20,
   "id": "c2ed400f-6827-4429-b0a7-8ec5c0547ea9",
   "metadata": {},
   "outputs": [
    {
     "data": {
      "text/html": [
       "<div>\n",
       "<style scoped>\n",
       "    .dataframe tbody tr th:only-of-type {\n",
       "        vertical-align: middle;\n",
       "    }\n",
       "\n",
       "    .dataframe tbody tr th {\n",
       "        vertical-align: top;\n",
       "    }\n",
       "\n",
       "    .dataframe thead th {\n",
       "        text-align: right;\n",
       "    }\n",
       "</style>\n",
       "<table border=\"1\" class=\"dataframe\">\n",
       "  <thead>\n",
       "    <tr style=\"text-align: right;\">\n",
       "      <th></th>\n",
       "      <th>fixed_acidity</th>\n",
       "      <th>volatile_acidity</th>\n",
       "      <th>citric_acid</th>\n",
       "      <th>residual_sugar</th>\n",
       "      <th>chlorides</th>\n",
       "      <th>free_sulfur_dioxide</th>\n",
       "      <th>total_sulfur_dioxide</th>\n",
       "      <th>density</th>\n",
       "      <th>pH</th>\n",
       "      <th>sulphates</th>\n",
       "      <th>alcohol</th>\n",
       "      <th>quality</th>\n",
       "      <th>color</th>\n",
       "    </tr>\n",
       "  </thead>\n",
       "  <tbody>\n",
       "    <tr>\n",
       "      <th>0</th>\n",
       "      <td>7.4</td>\n",
       "      <td>0.70</td>\n",
       "      <td>0.00</td>\n",
       "      <td>1.9</td>\n",
       "      <td>0.076</td>\n",
       "      <td>11.0</td>\n",
       "      <td>34.0</td>\n",
       "      <td>0.9978</td>\n",
       "      <td>3.51</td>\n",
       "      <td>0.56</td>\n",
       "      <td>9.4</td>\n",
       "      <td>5</td>\n",
       "      <td>red</td>\n",
       "    </tr>\n",
       "    <tr>\n",
       "      <th>1</th>\n",
       "      <td>7.8</td>\n",
       "      <td>0.88</td>\n",
       "      <td>0.00</td>\n",
       "      <td>2.6</td>\n",
       "      <td>0.098</td>\n",
       "      <td>25.0</td>\n",
       "      <td>67.0</td>\n",
       "      <td>0.9968</td>\n",
       "      <td>3.20</td>\n",
       "      <td>0.68</td>\n",
       "      <td>9.8</td>\n",
       "      <td>5</td>\n",
       "      <td>red</td>\n",
       "    </tr>\n",
       "    <tr>\n",
       "      <th>2</th>\n",
       "      <td>7.8</td>\n",
       "      <td>0.76</td>\n",
       "      <td>0.04</td>\n",
       "      <td>2.3</td>\n",
       "      <td>0.092</td>\n",
       "      <td>15.0</td>\n",
       "      <td>54.0</td>\n",
       "      <td>0.9970</td>\n",
       "      <td>3.26</td>\n",
       "      <td>0.65</td>\n",
       "      <td>9.8</td>\n",
       "      <td>5</td>\n",
       "      <td>red</td>\n",
       "    </tr>\n",
       "    <tr>\n",
       "      <th>3</th>\n",
       "      <td>11.2</td>\n",
       "      <td>0.28</td>\n",
       "      <td>0.56</td>\n",
       "      <td>1.9</td>\n",
       "      <td>0.075</td>\n",
       "      <td>17.0</td>\n",
       "      <td>60.0</td>\n",
       "      <td>0.9980</td>\n",
       "      <td>3.16</td>\n",
       "      <td>0.58</td>\n",
       "      <td>9.8</td>\n",
       "      <td>6</td>\n",
       "      <td>red</td>\n",
       "    </tr>\n",
       "    <tr>\n",
       "      <th>4</th>\n",
       "      <td>7.4</td>\n",
       "      <td>0.70</td>\n",
       "      <td>0.00</td>\n",
       "      <td>1.9</td>\n",
       "      <td>0.076</td>\n",
       "      <td>11.0</td>\n",
       "      <td>34.0</td>\n",
       "      <td>0.9978</td>\n",
       "      <td>3.51</td>\n",
       "      <td>0.56</td>\n",
       "      <td>9.4</td>\n",
       "      <td>5</td>\n",
       "      <td>red</td>\n",
       "    </tr>\n",
       "  </tbody>\n",
       "</table>\n",
       "</div>"
      ],
      "text/plain": [
       "   fixed_acidity  volatile_acidity  citric_acid  residual_sugar  chlorides  \\\n",
       "0            7.4              0.70         0.00             1.9      0.076   \n",
       "1            7.8              0.88         0.00             2.6      0.098   \n",
       "2            7.8              0.76         0.04             2.3      0.092   \n",
       "3           11.2              0.28         0.56             1.9      0.075   \n",
       "4            7.4              0.70         0.00             1.9      0.076   \n",
       "\n",
       "   free_sulfur_dioxide  total_sulfur_dioxide  density    pH  sulphates  \\\n",
       "0                 11.0                  34.0   0.9978  3.51       0.56   \n",
       "1                 25.0                  67.0   0.9968  3.20       0.68   \n",
       "2                 15.0                  54.0   0.9970  3.26       0.65   \n",
       "3                 17.0                  60.0   0.9980  3.16       0.58   \n",
       "4                 11.0                  34.0   0.9978  3.51       0.56   \n",
       "\n",
       "   alcohol  quality color  \n",
       "0      9.4        5   red  \n",
       "1      9.8        5   red  \n",
       "2      9.8        5   red  \n",
       "3      9.8        6   red  \n",
       "4      9.4        5   red  "
      ]
     },
     "execution_count": 20,
     "metadata": {},
     "output_type": "execute_result"
    }
   ],
   "source": [
    "original_data = wine_quality.data['original']\n",
    "original_data.head()"
   ]
  },
  {
   "cell_type": "code",
   "execution_count": 22,
   "id": "189609c5-37d2-4f34-9706-2fc72818fc0a",
   "metadata": {},
   "outputs": [
    {
     "data": {
      "text/plain": [
       "fixed_acidity           float64\n",
       "volatile_acidity        float64\n",
       "citric_acid             float64\n",
       "residual_sugar          float64\n",
       "chlorides               float64\n",
       "free_sulfur_dioxide     float64\n",
       "total_sulfur_dioxide    float64\n",
       "density                 float64\n",
       "pH                      float64\n",
       "sulphates               float64\n",
       "alcohol                 float64\n",
       "quality                   int64\n",
       "color                    object\n",
       "dtype: object"
      ]
     },
     "execution_count": 22,
     "metadata": {},
     "output_type": "execute_result"
    }
   ],
   "source": [
    "original_data.dtypes"
   ]
  },
  {
   "cell_type": "code",
   "execution_count": 60,
   "id": "ac14bf8c-71ee-4e5c-ba9d-04c549a385de",
   "metadata": {},
   "outputs": [
    {
     "data": {
      "text/plain": [
       "<bound method NDFrame.head of       fixed_acidity  volatile_acidity  citric_acid  residual_sugar  chlorides  \\\n",
       "0               7.4              0.70         0.00             1.9      0.076   \n",
       "1               7.8              0.88         0.00             2.6      0.098   \n",
       "2               7.8              0.76         0.04             2.3      0.092   \n",
       "3              11.2              0.28         0.56             1.9      0.075   \n",
       "4               7.4              0.70         0.00             1.9      0.076   \n",
       "...             ...               ...          ...             ...        ...   \n",
       "6492            6.2              0.21         0.29             1.6      0.039   \n",
       "6493            6.6              0.32         0.36             8.0      0.047   \n",
       "6494            6.5              0.24         0.19             1.2      0.041   \n",
       "6495            5.5              0.29         0.30             1.1      0.022   \n",
       "6496            6.0              0.21         0.38             0.8      0.020   \n",
       "\n",
       "      free_sulfur_dioxide  total_sulfur_dioxide  density    pH  sulphates  \\\n",
       "0                    11.0                  34.0  0.99780  3.51       0.56   \n",
       "1                    25.0                  67.0  0.99680  3.20       0.68   \n",
       "2                    15.0                  54.0  0.99700  3.26       0.65   \n",
       "3                    17.0                  60.0  0.99800  3.16       0.58   \n",
       "4                    11.0                  34.0  0.99780  3.51       0.56   \n",
       "...                   ...                   ...      ...   ...        ...   \n",
       "6492                 24.0                  92.0  0.99114  3.27       0.50   \n",
       "6493                 57.0                 168.0  0.99490  3.15       0.46   \n",
       "6494                 30.0                 111.0  0.99254  2.99       0.46   \n",
       "6495                 20.0                 110.0  0.98869  3.34       0.38   \n",
       "6496                 22.0                  98.0  0.98941  3.26       0.32   \n",
       "\n",
       "      alcohol  quality  color  \n",
       "0         9.4        5    red  \n",
       "1         9.8        5    red  \n",
       "2         9.8        5    red  \n",
       "3         9.8        6    red  \n",
       "4         9.4        5    red  \n",
       "...       ...      ...    ...  \n",
       "6492     11.2        6  white  \n",
       "6493      9.6        5  white  \n",
       "6494      9.4        6  white  \n",
       "6495     12.8        7  white  \n",
       "6496     11.8        6  white  \n",
       "\n",
       "[6497 rows x 13 columns]>"
      ]
     },
     "execution_count": 60,
     "metadata": {},
     "output_type": "execute_result"
    }
   ],
   "source": [
    "original_data.head"
   ]
  },
  {
   "cell_type": "code",
   "execution_count": null,
   "id": "079905a1-e703-40d7-a8bf-624130c0910b",
   "metadata": {},
   "outputs": [],
   "source": [
    "#time for wine colored graphs\n",
    "\n",
    "plt.scatter(original_data['quality'], original_data['pH'], color = 'maroon')\n",
    "plt.title('relation of pH with wine')\n",
    "plt.xlabel('quality')\n",
    "plt.ylabel('pH')\n",
    "plt.legend()\n",
    "plt.show()"
   ]
  },
  {
   "cell_type": "code",
   "execution_count": null,
   "id": "e3d62c6a-e85b-40b2-a5b2-78824a102c7d",
   "metadata": {},
   "outputs": [],
   "source": [
    "plt.title('Fixed Acidity vs Quality')\n",
    "plt.xlabel('Fixed Acidity')\n",
    "plt.ylabel('Quality')\n",
    "plt.scatter(original_data['fixed_acidity'], original_data['quality'], color = 'magenta')\n",
    "plt.show()"
   ]
  },
  {
   "cell_type": "code",
   "execution_count": null,
   "id": "5024a012-35d2-4775-bf7a-8a0d39e7a5b0",
   "metadata": {},
   "outputs": [],
   "source": [
    "plt.bar(data['quality'], data['alcohol'], color = 'pink')\n",
    "plt.title('relation of alcohol to wine')\n",
    "plt.xlabel('quality')\n",
    "plt.ylabel('alcohol')\n",
    "plt.legend()\n",
    "plt.show()"
   ]
  },
  {
   "cell_type": "code",
   "execution_count": null,
   "id": "b76f2016-ae54-4681-a03e-86162aa2ecfa",
   "metadata": {},
   "outputs": [],
   "source": [
    "import seaborn as sns"
   ]
  },
  {
   "cell_type": "code",
   "execution_count": 62,
   "id": "ce16b2bb-0f65-49ff-9ab0-d096740d151c",
   "metadata": {},
   "outputs": [
    {
     "name": "stdout",
     "output_type": "stream",
     "text": [
      "Index(['fixed_acidity', 'volatile_acidity', 'citric_acid', 'residual_sugar',\n",
      "       'chlorides', 'free_sulfur_dioxide', 'total_sulfur_dioxide', 'density',\n",
      "       'pH', 'sulphates', 'alcohol', 'color'],\n",
      "      dtype='object')\n"
     ]
    }
   ],
   "source": [
    "#Spliting data in two like above\n",
    "\n",
    "X = original_data.drop(columns=['quality'])  # Features\n",
    "y = original_data['quality']\n",
    "\n",
    "print(X.columns)"
   ]
  },
  {
   "cell_type": "code",
   "execution_count": 64,
   "id": "42e49941-c01b-492b-902c-8ce96498b495",
   "metadata": {},
   "outputs": [
    {
     "data": {
      "text/plain": [
       "((6497, 12), (6497,))"
      ]
     },
     "execution_count": 64,
     "metadata": {},
     "output_type": "execute_result"
    }
   ],
   "source": [
    "X.shape, y.shape"
   ]
  },
  {
   "cell_type": "code",
   "execution_count": null,
   "id": "0ee77aae-0500-4885-8c7a-8b678638665f",
   "metadata": {},
   "outputs": [],
   "source": [
    "fig = plt.figure(figsize = (10,6))\n",
    "sns.barplot(X, palette = 'Reds')"
   ]
  },
  {
   "cell_type": "markdown",
   "id": "0e41aadc-71a7-4203-b636-07f7d91c5e77",
   "metadata": {},
   "source": [
    "Ran into a ValueError when trying to create a correlation matrix so I am going to bring back the features list from the updated dataset because that does not include the color and target(quality) columns."
   ]
  },
  {
   "cell_type": "code",
   "execution_count": null,
   "id": "8be684e7-eb5d-470a-9b17-b2d098155237",
   "metadata": {},
   "outputs": [],
   "source": [
    "corr = winedf.corr()\n",
    "print(corr)"
   ]
  },
  {
   "cell_type": "markdown",
   "id": "dce89bbb-56cd-4aea-beea-99b8033a7cb2",
   "metadata": {},
   "source": [
    "The corrrelation matrix is great to know when proceeding but i belive I will be able to absorb the information better if visualize it."
   ]
  },
  {
   "cell_type": "code",
   "execution_count": null,
   "id": "953ff760-6b12-4d11-957d-c3a1bcfdfeff",
   "metadata": {
    "scrolled": true
   },
   "outputs": [],
   "source": [
    "plt.figure(figsize=(10, 8))\n",
    "sns.heatmap(corr, annot=True, cmap='coolwarm', fmt='.2f')\n",
    "plt.show()"
   ]
  },
  {
   "cell_type": "markdown",
   "id": "594d5d0a-d29d-4ad0-90b3-40e55a0ebc58",
   "metadata": {},
   "source": [
    "From the correlation matrix and plot we can see which features have strong correlation and which features do not. I belive this will be inportant in the future when determining which columns are the most revelant. The alcohol content of the wine has a high correlation with the wine quality. This is important to note because wine quality is what we will working closely with. Some features have negative correlation like density. I plan to remove the features with the most correlation to quality to eliminate some noise if I need to."
   ]
  },
  {
   "cell_type": "code",
   "execution_count": null,
   "id": "960a01b8-888f-4e9e-b050-ee93bead6d2d",
   "metadata": {
    "scrolled": true
   },
   "outputs": [],
   "source": [
    "sns.pairplot(original_data, hue='color')"
   ]
  },
  {
   "cell_type": "markdown",
   "id": "796db6b6-9e87-4f30-b94f-e9d408da5b5e",
   "metadata": {},
   "source": [
    "Prediction: I'm not seeing any strong linear relationships in my exploratory graphs. That the random forest will have higher accuracy and F1 scores."
   ]
  },
  {
   "cell_type": "markdown",
   "id": "1d630d13-69ff-41bb-a893-17efa4fd8945",
   "metadata": {},
   "source": [
    "Okay now that I have done all of my exploratory analysis I feel confident to move on to the next step. During my exploratory analysis I did not find any missing values, I know the dtypes of all my columns, and I was able to see the correlation beetween categories. Next I will create a sklearn pipeline that includes preprocessing steps such as scaling and one hot encoding of categorical variable. "
   ]
  },
  {
   "cell_type": "code",
   "execution_count": 38,
   "id": "35371231-b797-4e10-a6bd-d0c723e95544",
   "metadata": {},
   "outputs": [],
   "source": [
    "from sklearn.model_selection import train_test_split\n",
    "from sklearn.preprocessing import StandardScaler, OneHotEncoder\n",
    "from sklearn.compose import ColumnTransformer\n",
    "from sklearn.pipeline import Pipeline\n",
    "from sklearn.linear_model import LogisticRegression\n",
    "from sklearn.ensemble import RandomForestClassifier\n",
    "from sklearn.metrics import confusion_matrix, classification_report\n",
    "from sklearn.model_selection import GridSearchCV, RandomizedSearchCV"
   ]
  },
  {
   "cell_type": "code",
   "execution_count": 66,
   "id": "d2562a86-5fc7-4731-9cb4-aa4da4f082ef",
   "metadata": {},
   "outputs": [],
   "source": [
    "x_train, x_test, y_train, y_test = train_test_split(X, \n",
    "                                                    y,\n",
    "                                                    test_size=0.3,\n",
    "                                                    random_state=42)"
   ]
  },
  {
   "cell_type": "code",
   "execution_count": 68,
   "id": "37e601bb-acc0-44d1-a248-aae9ce7e1c4e",
   "metadata": {},
   "outputs": [
    {
     "data": {
      "text/plain": [
       "((4547, 12), (1950, 12), (4547,), (1950,))"
      ]
     },
     "execution_count": 68,
     "metadata": {},
     "output_type": "execute_result"
    }
   ],
   "source": [
    "x_train.shape, x_test.shape, y_train.shape, y_test.shape"
   ]
  },
  {
   "cell_type": "code",
   "execution_count": null,
   "id": "64f8903f-561c-42d1-b5a6-8d2c692a40ae",
   "metadata": {},
   "outputs": [],
   "source": [
    "x_test"
   ]
  },
  {
   "cell_type": "code",
   "execution_count": 50,
   "id": "74bf440b-4143-4c30-83e3-e1e97c0a3889",
   "metadata": {},
   "outputs": [],
   "source": [
    "num_cols = ['fixed_acidity', 'volatile_acidity', 'citric_acid', 'residual_sugar',\n",
    "       'chlorides', 'free_sulfur_dioxide', 'total_sulfur_dioxide', 'density',\n",
    "       'pH', 'sulphates', 'alcohol']\n",
    "cat_cols = ['color']\n",
    "\n",
    "# Create the ColumnTransformer\n",
    "preprocessor = ColumnTransformer(\n",
    "    transformers=[\n",
    "        ('num', StandardScaler(), num_cols),  # Scale numerical features\n",
    "        ('cat', OneHotEncoder(handle_unknown='ignore'), cat_cols)  # One-hot encode categorical features\n",
    "    ])\n"
   ]
  },
  {
   "cell_type": "markdown",
   "id": "ce16b7d9-93fa-48f5-aac2-ee7263d1d4cf",
   "metadata": {},
   "source": [
    "The first model I will train will be Logicregression"
   ]
  },
  {
   "cell_type": "code",
   "execution_count": 74,
   "id": "79cdcc3b-8bf6-495a-a2e6-d552ac5e2232",
   "metadata": {},
   "outputs": [],
   "source": [
    "pipe = Pipeline(steps=[\n",
    "    ('preprocessor', preprocessor), ('model', LogisticRegression())])"
   ]
  },
  {
   "cell_type": "code",
   "execution_count": null,
   "id": "137052ef-4b08-4598-8937-d42ec55891a1",
   "metadata": {},
   "outputs": [],
   "source": [
    "pipe.fit(x_train, y_train)\n",
    "\n",
    "\n",
    "# calculating the training and testing accuracies\n",
    "print(\"Training accuracy :\", pipe.score(x_train, y_train))\n",
    "print(\"Testing accuracy :\", pipe.score(x_test, y_test))\n",
    "\n",
    "y_pred = pipe.predict(x_test)\n",
    "\n",
    "print(\"Classification Report:\")\n",
    "print(classification_report(y_test, y_pred))\n",
    "\n",
    "# Confusion matrix\n",
    "print(\"Confusion Matrix:\")\n",
    "print(confusion_matrix(y_test, y_pred))"
   ]
  },
  {
   "cell_type": "markdown",
   "id": "a885351a-09df-4e5d-b140-8d62e84ba222",
   "metadata": {},
   "source": [
    "From the results of the test above I'm going to proceed with removing some column/features to reduce noise and hopefully help with the overfitting of the model above"
   ]
  },
  {
   "cell_type": "code",
   "execution_count": null,
   "id": "043a0785-1021-4d96-bda9-29c09c569f8f",
   "metadata": {},
   "outputs": [],
   "source": [
    "X.columns"
   ]
  },
  {
   "cell_type": "code",
   "execution_count": null,
   "id": "f861e4bb-3663-40c6-ab3e-b474c6f4c4b2",
   "metadata": {},
   "outputs": [],
   "source": [
    "#columnsdrop = ['fixed_acidity','residual_sugar', 'total_sulfur_dioxide', 'pH', 'sulphates']\n",
    "#X_df = X.drop(columns=columnsdrop)\n",
    "\n",
    "#redoing the test/train split\n",
    "#x_train, x_test, y_train, y_test = train_test_split(X_df, y, test_size=0.3, random_state=42)"
   ]
  },
  {
   "cell_type": "code",
   "execution_count": null,
   "id": "34568553-b636-4a7b-97a6-dc6b0c3ff977",
   "metadata": {},
   "outputs": [],
   "source": [
    "#num_cols1 = ['volatile_acidity', 'citric_acid',\n",
    "      # 'chlorides', 'free_sulfur_dioxide', 'density','alcohol']\n",
    "#cat_cols = ['color']\n",
    "\n",
    "#preprocessor1 = ColumnTransformer(\n",
    "  #  transformers=[\n",
    " #       ('num', StandardScaler(), num_cols1),  # Scale numerical features\n",
    "  #      ('cat', OneHotEncoder(handle_unknown='ignore'), cat_cols)  # One-hot encode categorical features\n",
    "  #  ])\n",
    "\n",
    "#pipe = Pipeline(steps=[\n",
    " #   ('preprocessor1', preprocessor1), ('model', LogisticRegression())])\n",
    "\n",
    "#pipe.fit(x_train, y_train)\n",
    "\n",
    "\n",
    "\n",
    "#print(\"Training accuracy :\", pipe.score(x_train, y_train))\n",
    "#print(\"Testing accuracy :\", pipe.score(x_test, y_test))\n",
    "#\n",
    "#y_pred = pipe.predict(x_test)\n",
    "\n",
    "#print(\"Classification Report:\")\n",
    "#print(classification_report(y_test, y_pred))\n",
    "\n",
    "# Confusion matrix\n",
    "#print(\"Confusion Matrix:\")\n",
    "#print(confusion_matrix(y_test, y_pred))"
   ]
  },
  {
   "cell_type": "markdown",
   "id": "5f83aaa5-5e00-4f28-a49c-4fd5c8bb493e",
   "metadata": {},
   "source": [
    "The results actually seem to be worse. I believe the results are low because the linear relationships between the features and quality are weak as I predicted above. I will comment that attempt out and will move on to randomforest."
   ]
  },
  {
   "cell_type": "code",
   "execution_count": 56,
   "id": "ac0ff285-3602-40f2-be67-19c4a3ffddac",
   "metadata": {},
   "outputs": [],
   "source": [
    "pipeline = Pipeline(steps=[\n",
    "    ('preprocessor', preprocessor),\n",
    "    ('classifier', RandomForestClassifier(random_state=42))\n",
    "])"
   ]
  },
  {
   "cell_type": "code",
   "execution_count": 70,
   "id": "12a2204e-52fb-405a-a379-6e1cf90e3a98",
   "metadata": {},
   "outputs": [
    {
     "name": "stdout",
     "output_type": "stream",
     "text": [
      "Training accuracy : 1.0\n",
      "Testing accuracy : 0.6743589743589744\n",
      "Classification Report:\n",
      "              precision    recall  f1-score   support\n",
      "\n",
      "           3       0.00      0.00      0.00         9\n",
      "           4       0.67      0.12      0.20        69\n",
      "           5       0.67      0.74      0.71       613\n",
      "           6       0.67      0.74      0.70       894\n",
      "           7       0.69      0.54      0.61       315\n",
      "           8       0.94      0.33      0.48        49\n",
      "           9       0.00      0.00      0.00         1\n",
      "\n",
      "    accuracy                           0.67      1950\n",
      "   macro avg       0.52      0.35      0.39      1950\n",
      "weighted avg       0.68      0.67      0.66      1950\n",
      "\n",
      "Confusion Matrix:\n",
      "[[  0   0   4   5   0   0   0]\n",
      " [  1   8  42  18   0   0   0]\n",
      " [  0   3 455 148   7   0   0]\n",
      " [  0   1 172 666  55   0   0]\n",
      " [  0   0   4 140 170   1   0]\n",
      " [  0   0   0  19  14  16   0]\n",
      " [  0   0   0   1   0   0   0]]\n"
     ]
    },
    {
     "name": "stderr",
     "output_type": "stream",
     "text": [
      "/opt/anaconda3/lib/python3.12/site-packages/sklearn/metrics/_classification.py:1509: UndefinedMetricWarning: Precision is ill-defined and being set to 0.0 in labels with no predicted samples. Use `zero_division` parameter to control this behavior.\n",
      "  _warn_prf(average, modifier, f\"{metric.capitalize()} is\", len(result))\n",
      "/opt/anaconda3/lib/python3.12/site-packages/sklearn/metrics/_classification.py:1509: UndefinedMetricWarning: Precision is ill-defined and being set to 0.0 in labels with no predicted samples. Use `zero_division` parameter to control this behavior.\n",
      "  _warn_prf(average, modifier, f\"{metric.capitalize()} is\", len(result))\n",
      "/opt/anaconda3/lib/python3.12/site-packages/sklearn/metrics/_classification.py:1509: UndefinedMetricWarning: Precision is ill-defined and being set to 0.0 in labels with no predicted samples. Use `zero_division` parameter to control this behavior.\n",
      "  _warn_prf(average, modifier, f\"{metric.capitalize()} is\", len(result))\n"
     ]
    }
   ],
   "source": [
    "pipeline.fit(x_train, y_train)\n",
    "y_pred = pipeline.predict(x_test)\n",
    "\n",
    "# Calculate and print the training and testing accuracies\n",
    "print(\"Training accuracy :\", pipeline.score(x_train, y_train))\n",
    "print(\"Testing accuracy :\", pipeline.score(x_test, y_test))\n",
    "\n",
    "# Classification report\n",
    "print(\"Classification Report:\")\n",
    "print(classification_report(y_test, y_pred))\n",
    "\n",
    "# Confusion matrix\n",
    "print(\"Confusion Matrix:\")\n",
    "print(confusion_matrix(y_test, y_pred))"
   ]
  },
  {
   "cell_type": "markdown",
   "id": "e9a8927d-425f-4e89-ade5-9c5e79b810b9",
   "metadata": {},
   "source": [
    "Instantly i can see that these results are a lot better than the logicregression. I'm wondering if the results would be even better excluding some feature so theres less potential for overfitting. To figure out how to make this model a little more accurate I will run a grid search to improve the result. Report the best set of parameters. "
   ]
  },
  {
   "cell_type": "code",
   "execution_count": null,
   "id": "c12eeee6-ab1d-45fc-b431-709988ae2157",
   "metadata": {},
   "outputs": [],
   "source": [
    "param_grid = {\n",
    "    'classifier__n_estimators': [100, 200, 300, 400],\n",
    "    'classifier__max_depth': [None, 10, 20, 30],\n",
    "    'classifier__min_samples_split': [2, 5, 10],\n",
    "    'classifier__min_samples_leaf': [1, 2, 4],\n",
    "    'classifier__max_features': ['auto', 'sqrt', 'log2']\n",
    "}"
   ]
  },
  {
   "cell_type": "markdown",
   "id": "49dcba25-b35f-4803-985f-6c921c17fcba",
   "metadata": {},
   "source": [
    "I wasn't sure which numbers to start off with in the param grid. After doing some research I found that the numbers entered above were \"default\" numbers for when you are unsure what parameters to set."
   ]
  },
  {
   "cell_type": "code",
   "execution_count": null,
   "id": "483349c5-92f0-42c4-9eb7-9d78cb64138c",
   "metadata": {},
   "outputs": [],
   "source": [
    "grid = GridSearchCV(estimator=pipeline, param_grid=param_grid, \n",
    "                           scoring='accuracy', cv=5, n_jobs=-1, verbose=2) # Fit the model\n",
    "\n",
    "grid.fit(x_train, y_train)\n",
    "\n",
    "# Get the best parameters and evaluate\n",
    "print(\"Best Parameters:\", grid.best_params_)\n",
    "print(\"Best Cross-validation Score:\", grid.best_score_)\n",
    "\n",
    "best_model = grid.best_estimator_\n",
    "y_pred = best_model.predict(x_test)"
   ]
  },
  {
   "cell_type": "code",
   "execution_count": null,
   "id": "4a87f32d-2ad9-4181-8946-9251b4234502",
   "metadata": {},
   "outputs": [],
   "source": [
    "print(\"Testing accuracy:\", best_model.score(x_test, y_test))\n",
    "print(classification_report(y_test, y_pred))\n",
    "print(confusion_matrix(y_test, y_pred))"
   ]
  },
  {
   "cell_type": "markdown",
   "id": "106f89d2-8a50-4c1a-91f8-ea8a3af43dee",
   "metadata": {},
   "source": [
    "trying again but using RandomizedSearchCV instead to see if i can get better results"
   ]
  },
  {
   "cell_type": "code",
   "execution_count": null,
   "id": "34268dac-20a4-4a67-bbe7-560a0e71db42",
   "metadata": {},
   "outputs": [],
   "source": [
    "from sklearn.model_selection import StratifiedKFold\n",
    "\n",
    "param_grid1 = {\n",
    "    'classifier__n_estimators': [50, 100, 200, 300, 400, 500],\n",
    "    'classifier__max_depth': [None, 10, 20, 30],\n",
    "    'classifier__min_samples_split': [2, 5, 10],\n",
    "    'classifier__min_samples_leaf': [1, 2, 4],\n",
    "    'classifier__max_features': ['sqrt', 'log2', None]  # Removed 'auto'\n",
    "}\n",
    "\n",
    "\n",
    "search = RandomizedSearchCV(pipeline, param_distributions=param_grid1, n_iter=100,\n",
    "                            cv=StratifiedKFold(n_splits=3), scoring='f1_weighted',\n",
    "                            random_state=42, n_jobs=-1)"
   ]
  },
  {
   "cell_type": "code",
   "execution_count": null,
   "id": "7453c096-7c51-4a20-b0ef-9003e8e92856",
   "metadata": {},
   "outputs": [],
   "source": [
    "search.fit(x_train, y_train)\n",
    "\n",
    "# Evaluate the best model\n",
    "print(\"Best parameters found: \", search.best_params_)"
   ]
  },
  {
   "cell_type": "raw",
   "id": "7ed02e21-2e0a-4dad-b5d1-c9020c414dde",
   "metadata": {},
   "source": [
    "The best set of parameters for my model is above so I will rerun to see if my model will be slightly better. Because I already included some of the parameter in my first test I believe the results will a hair difference."
   ]
  },
  {
   "cell_type": "code",
   "execution_count": null,
   "id": "8b25afee-e0d7-487a-9e14-15014b07de79",
   "metadata": {},
   "outputs": [],
   "source": [
    "best_model = search.best_estimator_\n",
    "best_model.fit(x_train, y_train)\n",
    "\n",
    "# Evaluate on the test set\n",
    "test_accuracy = best_model.score(x_test, y_test)\n",
    "print(f\"Test Accuracy: {test_accuracy:.2f}\")"
   ]
  },
  {
   "cell_type": "markdown",
   "id": "023efe93-1068-4102-a91f-c76f456f3f29",
   "metadata": {},
   "source": [
    "Next, I will use the best model to create a function that takes a single row of test data and predict the quality of wine."
   ]
  },
  {
   "cell_type": "code",
   "execution_count": null,
   "id": "d2f8a8be-31e1-41ea-826b-34756a9bbadd",
   "metadata": {},
   "outputs": [],
   "source": [
    "def wine_quality(row, best_model):\n",
    "    result = best_model.predict(row)\n",
    "    return result[0]"
   ]
  },
  {
   "cell_type": "code",
   "execution_count": null,
   "id": "00ea77cf-f1fc-4edb-870d-de9187114368",
   "metadata": {},
   "outputs": [],
   "source": [
    "sample_row = X.iloc[[16]]\n",
    "\n",
    "predicted_quality = wine_quality(sample_row, best_model)\n",
    "\n",
    "print(f\"Predicted wine quality: {predicted_quality}\")"
   ]
  },
  {
   "cell_type": "markdown",
   "id": "b21da108-8bd2-4b2a-a8ab-23257ac5fd0d",
   "metadata": {},
   "source": [
    "After reevualating the assignment I realized I had to filter out the white wine rows from the dataset to focus on building a red wine quality classifier"
   ]
  },
  {
   "cell_type": "code",
   "execution_count": 24,
   "id": "786bac33-32e7-431d-8b1d-ee2acf89e117",
   "metadata": {},
   "outputs": [
    {
     "name": "stdout",
     "output_type": "stream",
     "text": [
      "Number of rows with white wine: 4898\n"
     ]
    }
   ],
   "source": [
    "white_count = original_data[original_data['color'] == 'white'].shape[0]\n",
    "print(f\"Number of rows with white wine: {white_count}\")"
   ]
  },
  {
   "cell_type": "code",
   "execution_count": 26,
   "id": "247ea170-abcc-44d5-a5eb-7441be25d14b",
   "metadata": {},
   "outputs": [],
   "source": [
    "data = original_data[original_data['color'] != 'white']"
   ]
  },
  {
   "cell_type": "code",
   "execution_count": 32,
   "id": "cece6196-ebea-4eb1-bdb2-9a8325bb4819",
   "metadata": {},
   "outputs": [],
   "source": [
    "Xred = data.drop(columns=['quality'])  # Features\n",
    "yred = data['quality']"
   ]
  },
  {
   "cell_type": "code",
   "execution_count": 34,
   "id": "0a213abe-6ade-49f2-9574-9b636b3f3ad1",
   "metadata": {},
   "outputs": [
    {
     "data": {
      "text/plain": [
       "((1599, 12), (1599,))"
      ]
     },
     "execution_count": 34,
     "metadata": {},
     "output_type": "execute_result"
    }
   ],
   "source": [
    "Xred.shape, yred.shape"
   ]
  },
  {
   "cell_type": "code",
   "execution_count": 40,
   "id": "4283cd13-f10f-466c-9d1a-39f511d32a6b",
   "metadata": {},
   "outputs": [],
   "source": [
    "xred_train, xred_test, yred_train, yred_test = train_test_split(Xred, \n",
    "                                                    yred,\n",
    "                                                    test_size=0.3,\n",
    "                                                    random_state=42)"
   ]
  },
  {
   "cell_type": "code",
   "execution_count": 44,
   "id": "a87ad418-af02-4ab3-8356-658cc0da8b4d",
   "metadata": {},
   "outputs": [
    {
     "data": {
      "text/plain": [
       "((1119, 12), (480, 12), (1119,), (480,))"
      ]
     },
     "execution_count": 44,
     "metadata": {},
     "output_type": "execute_result"
    }
   ],
   "source": [
    "xred_train.shape, xred_test.shape, yred_train.shape, yred_test.shape"
   ]
  },
  {
   "cell_type": "code",
   "execution_count": 48,
   "id": "2ce926e7-3eb8-4475-9466-50e5c5381c47",
   "metadata": {},
   "outputs": [
    {
     "data": {
      "text/html": [
       "<div>\n",
       "<style scoped>\n",
       "    .dataframe tbody tr th:only-of-type {\n",
       "        vertical-align: middle;\n",
       "    }\n",
       "\n",
       "    .dataframe tbody tr th {\n",
       "        vertical-align: top;\n",
       "    }\n",
       "\n",
       "    .dataframe thead th {\n",
       "        text-align: right;\n",
       "    }\n",
       "</style>\n",
       "<table border=\"1\" class=\"dataframe\">\n",
       "  <thead>\n",
       "    <tr style=\"text-align: right;\">\n",
       "      <th></th>\n",
       "      <th>fixed_acidity</th>\n",
       "      <th>volatile_acidity</th>\n",
       "      <th>citric_acid</th>\n",
       "      <th>residual_sugar</th>\n",
       "      <th>chlorides</th>\n",
       "      <th>free_sulfur_dioxide</th>\n",
       "      <th>total_sulfur_dioxide</th>\n",
       "      <th>density</th>\n",
       "      <th>pH</th>\n",
       "      <th>sulphates</th>\n",
       "      <th>alcohol</th>\n",
       "      <th>color</th>\n",
       "    </tr>\n",
       "  </thead>\n",
       "  <tbody>\n",
       "    <tr>\n",
       "      <th>803</th>\n",
       "      <td>7.7</td>\n",
       "      <td>0.56</td>\n",
       "      <td>0.08</td>\n",
       "      <td>2.50</td>\n",
       "      <td>0.114</td>\n",
       "      <td>14.0</td>\n",
       "      <td>46.0</td>\n",
       "      <td>0.99710</td>\n",
       "      <td>3.24</td>\n",
       "      <td>0.66</td>\n",
       "      <td>9.6</td>\n",
       "      <td>red</td>\n",
       "    </tr>\n",
       "    <tr>\n",
       "      <th>124</th>\n",
       "      <td>7.8</td>\n",
       "      <td>0.50</td>\n",
       "      <td>0.17</td>\n",
       "      <td>1.60</td>\n",
       "      <td>0.082</td>\n",
       "      <td>21.0</td>\n",
       "      <td>102.0</td>\n",
       "      <td>0.99600</td>\n",
       "      <td>3.39</td>\n",
       "      <td>0.48</td>\n",
       "      <td>9.5</td>\n",
       "      <td>red</td>\n",
       "    </tr>\n",
       "    <tr>\n",
       "      <th>350</th>\n",
       "      <td>10.7</td>\n",
       "      <td>0.67</td>\n",
       "      <td>0.22</td>\n",
       "      <td>2.70</td>\n",
       "      <td>0.107</td>\n",
       "      <td>17.0</td>\n",
       "      <td>34.0</td>\n",
       "      <td>1.00040</td>\n",
       "      <td>3.28</td>\n",
       "      <td>0.98</td>\n",
       "      <td>9.9</td>\n",
       "      <td>red</td>\n",
       "    </tr>\n",
       "    <tr>\n",
       "      <th>682</th>\n",
       "      <td>8.5</td>\n",
       "      <td>0.46</td>\n",
       "      <td>0.31</td>\n",
       "      <td>2.25</td>\n",
       "      <td>0.078</td>\n",
       "      <td>32.0</td>\n",
       "      <td>58.0</td>\n",
       "      <td>0.99800</td>\n",
       "      <td>3.33</td>\n",
       "      <td>0.54</td>\n",
       "      <td>9.8</td>\n",
       "      <td>red</td>\n",
       "    </tr>\n",
       "    <tr>\n",
       "      <th>1326</th>\n",
       "      <td>6.7</td>\n",
       "      <td>0.46</td>\n",
       "      <td>0.24</td>\n",
       "      <td>1.70</td>\n",
       "      <td>0.077</td>\n",
       "      <td>18.0</td>\n",
       "      <td>34.0</td>\n",
       "      <td>0.99480</td>\n",
       "      <td>3.39</td>\n",
       "      <td>0.60</td>\n",
       "      <td>10.6</td>\n",
       "      <td>red</td>\n",
       "    </tr>\n",
       "    <tr>\n",
       "      <th>...</th>\n",
       "      <td>...</td>\n",
       "      <td>...</td>\n",
       "      <td>...</td>\n",
       "      <td>...</td>\n",
       "      <td>...</td>\n",
       "      <td>...</td>\n",
       "      <td>...</td>\n",
       "      <td>...</td>\n",
       "      <td>...</td>\n",
       "      <td>...</td>\n",
       "      <td>...</td>\n",
       "      <td>...</td>\n",
       "    </tr>\n",
       "    <tr>\n",
       "      <th>1468</th>\n",
       "      <td>7.3</td>\n",
       "      <td>0.48</td>\n",
       "      <td>0.32</td>\n",
       "      <td>2.10</td>\n",
       "      <td>0.062</td>\n",
       "      <td>31.0</td>\n",
       "      <td>54.0</td>\n",
       "      <td>0.99728</td>\n",
       "      <td>3.30</td>\n",
       "      <td>0.65</td>\n",
       "      <td>10.0</td>\n",
       "      <td>red</td>\n",
       "    </tr>\n",
       "    <tr>\n",
       "      <th>495</th>\n",
       "      <td>10.7</td>\n",
       "      <td>0.35</td>\n",
       "      <td>0.53</td>\n",
       "      <td>2.60</td>\n",
       "      <td>0.070</td>\n",
       "      <td>5.0</td>\n",
       "      <td>16.0</td>\n",
       "      <td>0.99720</td>\n",
       "      <td>3.15</td>\n",
       "      <td>0.65</td>\n",
       "      <td>11.0</td>\n",
       "      <td>red</td>\n",
       "    </tr>\n",
       "    <tr>\n",
       "      <th>1325</th>\n",
       "      <td>6.7</td>\n",
       "      <td>0.46</td>\n",
       "      <td>0.24</td>\n",
       "      <td>1.70</td>\n",
       "      <td>0.077</td>\n",
       "      <td>18.0</td>\n",
       "      <td>34.0</td>\n",
       "      <td>0.99480</td>\n",
       "      <td>3.39</td>\n",
       "      <td>0.60</td>\n",
       "      <td>10.6</td>\n",
       "      <td>red</td>\n",
       "    </tr>\n",
       "    <tr>\n",
       "      <th>514</th>\n",
       "      <td>10.5</td>\n",
       "      <td>0.51</td>\n",
       "      <td>0.64</td>\n",
       "      <td>2.40</td>\n",
       "      <td>0.107</td>\n",
       "      <td>6.0</td>\n",
       "      <td>15.0</td>\n",
       "      <td>0.99730</td>\n",
       "      <td>3.09</td>\n",
       "      <td>0.66</td>\n",
       "      <td>11.8</td>\n",
       "      <td>red</td>\n",
       "    </tr>\n",
       "    <tr>\n",
       "      <th>576</th>\n",
       "      <td>9.9</td>\n",
       "      <td>0.50</td>\n",
       "      <td>0.24</td>\n",
       "      <td>2.30</td>\n",
       "      <td>0.103</td>\n",
       "      <td>6.0</td>\n",
       "      <td>14.0</td>\n",
       "      <td>0.99780</td>\n",
       "      <td>3.34</td>\n",
       "      <td>0.52</td>\n",
       "      <td>10.0</td>\n",
       "      <td>red</td>\n",
       "    </tr>\n",
       "  </tbody>\n",
       "</table>\n",
       "<p>480 rows × 12 columns</p>\n",
       "</div>"
      ],
      "text/plain": [
       "      fixed_acidity  volatile_acidity  citric_acid  residual_sugar  chlorides  \\\n",
       "803             7.7              0.56         0.08            2.50      0.114   \n",
       "124             7.8              0.50         0.17            1.60      0.082   \n",
       "350            10.7              0.67         0.22            2.70      0.107   \n",
       "682             8.5              0.46         0.31            2.25      0.078   \n",
       "1326            6.7              0.46         0.24            1.70      0.077   \n",
       "...             ...               ...          ...             ...        ...   \n",
       "1468            7.3              0.48         0.32            2.10      0.062   \n",
       "495            10.7              0.35         0.53            2.60      0.070   \n",
       "1325            6.7              0.46         0.24            1.70      0.077   \n",
       "514            10.5              0.51         0.64            2.40      0.107   \n",
       "576             9.9              0.50         0.24            2.30      0.103   \n",
       "\n",
       "      free_sulfur_dioxide  total_sulfur_dioxide  density    pH  sulphates  \\\n",
       "803                  14.0                  46.0  0.99710  3.24       0.66   \n",
       "124                  21.0                 102.0  0.99600  3.39       0.48   \n",
       "350                  17.0                  34.0  1.00040  3.28       0.98   \n",
       "682                  32.0                  58.0  0.99800  3.33       0.54   \n",
       "1326                 18.0                  34.0  0.99480  3.39       0.60   \n",
       "...                   ...                   ...      ...   ...        ...   \n",
       "1468                 31.0                  54.0  0.99728  3.30       0.65   \n",
       "495                   5.0                  16.0  0.99720  3.15       0.65   \n",
       "1325                 18.0                  34.0  0.99480  3.39       0.60   \n",
       "514                   6.0                  15.0  0.99730  3.09       0.66   \n",
       "576                   6.0                  14.0  0.99780  3.34       0.52   \n",
       "\n",
       "      alcohol color  \n",
       "803       9.6   red  \n",
       "124       9.5   red  \n",
       "350       9.9   red  \n",
       "682       9.8   red  \n",
       "1326     10.6   red  \n",
       "...       ...   ...  \n",
       "1468     10.0   red  \n",
       "495      11.0   red  \n",
       "1325     10.6   red  \n",
       "514      11.8   red  \n",
       "576      10.0   red  \n",
       "\n",
       "[480 rows x 12 columns]"
      ]
     },
     "execution_count": 48,
     "metadata": {},
     "output_type": "execute_result"
    }
   ],
   "source": [
    "xred_test"
   ]
  },
  {
   "cell_type": "code",
   "execution_count": 52,
   "id": "d2dfa5f6-bdb4-49b9-b140-fe0a3aecda51",
   "metadata": {},
   "outputs": [],
   "source": [
    "pline = Pipeline(steps=[\n",
    "    ('preprocessor', preprocessor),\n",
    "    ('classifier', RandomForestClassifier(random_state=42))\n",
    "])"
   ]
  },
  {
   "cell_type": "code",
   "execution_count": 54,
   "id": "939c5610-6ffb-4861-bc76-107a794957b4",
   "metadata": {},
   "outputs": [
    {
     "name": "stdout",
     "output_type": "stream",
     "text": [
      "Training accuracy : 1.0\n",
      "Testing accuracy : 0.6625\n",
      "Classification Report:\n",
      "              precision    recall  f1-score   support\n",
      "\n",
      "           3       0.00      0.00      0.00         1\n",
      "           4       0.00      0.00      0.00        17\n",
      "           5       0.73      0.78      0.76       195\n",
      "           6       0.63      0.69      0.66       200\n",
      "           7       0.54      0.44      0.49        61\n",
      "           8       0.50      0.17      0.25         6\n",
      "\n",
      "    accuracy                           0.66       480\n",
      "   macro avg       0.40      0.35      0.36       480\n",
      "weighted avg       0.63      0.66      0.65       480\n",
      "\n",
      "Confusion Matrix:\n",
      "[[  0   0   1   0   0   0]\n",
      " [  0   0  10   7   0   0]\n",
      " [  0   0 153  40   2   0]\n",
      " [  0   0  46 137  17   0]\n",
      " [  0   0   0  33  27   1]\n",
      " [  0   0   0   1   4   1]]\n"
     ]
    },
    {
     "name": "stderr",
     "output_type": "stream",
     "text": [
      "/opt/anaconda3/lib/python3.12/site-packages/sklearn/metrics/_classification.py:1509: UndefinedMetricWarning: Precision is ill-defined and being set to 0.0 in labels with no predicted samples. Use `zero_division` parameter to control this behavior.\n",
      "  _warn_prf(average, modifier, f\"{metric.capitalize()} is\", len(result))\n",
      "/opt/anaconda3/lib/python3.12/site-packages/sklearn/metrics/_classification.py:1509: UndefinedMetricWarning: Precision is ill-defined and being set to 0.0 in labels with no predicted samples. Use `zero_division` parameter to control this behavior.\n",
      "  _warn_prf(average, modifier, f\"{metric.capitalize()} is\", len(result))\n",
      "/opt/anaconda3/lib/python3.12/site-packages/sklearn/metrics/_classification.py:1509: UndefinedMetricWarning: Precision is ill-defined and being set to 0.0 in labels with no predicted samples. Use `zero_division` parameter to control this behavior.\n",
      "  _warn_prf(average, modifier, f\"{metric.capitalize()} is\", len(result))\n"
     ]
    }
   ],
   "source": [
    "pline.fit(xred_train, yred_train)\n",
    "yred_pred = pline.predict(xred_test)\n",
    "\n",
    "# Calculate and print the training and testing accuracies\n",
    "print(\"Training accuracy :\", pline.score(xred_train, yred_train))\n",
    "print(\"Testing accuracy :\", pline.score(xred_test, yred_test))\n",
    "\n",
    "# Classification report\n",
    "print(\"Classification Report:\")\n",
    "print(classification_report(yred_test, yred_pred))\n",
    "\n",
    "# Confusion matrix\n",
    "print(\"Confusion Matrix:\")\n",
    "print(confusion_matrix(yred_test, yred_pred))"
   ]
  },
  {
   "cell_type": "markdown",
   "id": "b14c0811-5e1b-4a2e-a5ba-d100cca889e4",
   "metadata": {},
   "source": [
    "These results are slightly worse than my mixed test. The F1 score with both red and white wine was .67. However, it's not much difference"
   ]
  }
 ],
 "metadata": {
  "kernelspec": {
   "display_name": "Python 3 (ipykernel)",
   "language": "python",
   "name": "python3"
  },
  "language_info": {
   "codemirror_mode": {
    "name": "ipython",
    "version": 3
   },
   "file_extension": ".py",
   "mimetype": "text/x-python",
   "name": "python",
   "nbconvert_exporter": "python",
   "pygments_lexer": "ipython3",
   "version": "3.12.4"
  }
 },
 "nbformat": 4,
 "nbformat_minor": 5
}
